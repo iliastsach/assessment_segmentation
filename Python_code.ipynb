{
 "cells": [
  {
   "cell_type": "markdown",
   "metadata": {},
   "source": [
    "## Ilias Tsachtsarlis - Part 2 of Data Manipulation"
   ]
  },
  {
   "cell_type": "code",
   "execution_count": 1,
   "metadata": {},
   "outputs": [],
   "source": [
    "import pandas as pd\n",
    "import numpy as np"
   ]
  },
  {
   "cell_type": "markdown",
   "metadata": {},
   "source": [
    "Data downloaded from BigQuery where SQL statements performed in a Json format type document in order to prevent the rows threshold due to csv exporting limitation.\n",
    "\n",
    "This file then got imported through Python having the help of Pandas library:"
   ]
  },
  {
   "cell_type": "code",
   "execution_count": 2,
   "metadata": {},
   "outputs": [
    {
     "name": "stdout",
     "output_type": "stream",
     "text": [
      "(400000, 8)\n"
     ]
    },
    {
     "data": {
      "text/html": [
       "<div>\n",
       "<style scoped>\n",
       "    .dataframe tbody tr th:only-of-type {\n",
       "        vertical-align: middle;\n",
       "    }\n",
       "\n",
       "    .dataframe tbody tr th {\n",
       "        vertical-align: top;\n",
       "    }\n",
       "\n",
       "    .dataframe thead th {\n",
       "        text-align: right;\n",
       "    }\n",
       "</style>\n",
       "<table border=\"1\" class=\"dataframe\">\n",
       "  <thead>\n",
       "    <tr style=\"text-align: right;\">\n",
       "      <th></th>\n",
       "      <th>order_id</th>\n",
       "      <th>brand</th>\n",
       "      <th>submit_dt</th>\n",
       "      <th>user_id</th>\n",
       "      <th>shop_id</th>\n",
       "      <th>city</th>\n",
       "      <th>cuisine_parent</th>\n",
       "      <th>basket</th>\n",
       "    </tr>\n",
       "  </thead>\n",
       "  <tbody>\n",
       "    <tr>\n",
       "      <th>0</th>\n",
       "      <td>2846837765</td>\n",
       "      <td>GR-EFOOD</td>\n",
       "      <td>2021-01-13 20:37:06 UTC</td>\n",
       "      <td>99103596</td>\n",
       "      <td>206490318</td>\n",
       "      <td>Βόλος</td>\n",
       "      <td>Healthy / Other</td>\n",
       "      <td>9.0</td>\n",
       "    </tr>\n",
       "    <tr>\n",
       "      <th>1</th>\n",
       "      <td>2878146359</td>\n",
       "      <td>GR-EFOOD</td>\n",
       "      <td>2021-01-22 14:28:57 UTC</td>\n",
       "      <td>77179398</td>\n",
       "      <td>206490318</td>\n",
       "      <td>Βόλος</td>\n",
       "      <td>Healthy / Other</td>\n",
       "      <td>7.0</td>\n",
       "    </tr>\n",
       "    <tr>\n",
       "      <th>2</th>\n",
       "      <td>2904155390</td>\n",
       "      <td>GR-EFOOD</td>\n",
       "      <td>2021-01-29 13:52:24 UTC</td>\n",
       "      <td>7233822</td>\n",
       "      <td>206490318</td>\n",
       "      <td>Βόλος</td>\n",
       "      <td>Healthy / Other</td>\n",
       "      <td>6.3</td>\n",
       "    </tr>\n",
       "    <tr>\n",
       "      <th>3</th>\n",
       "      <td>2867086278</td>\n",
       "      <td>GR-EFOOD</td>\n",
       "      <td>2021-01-19 12:19:59 UTC</td>\n",
       "      <td>68621466</td>\n",
       "      <td>206490318</td>\n",
       "      <td>Βόλος</td>\n",
       "      <td>Healthy / Other</td>\n",
       "      <td>7.0</td>\n",
       "    </tr>\n",
       "    <tr>\n",
       "      <th>4</th>\n",
       "      <td>2875723043</td>\n",
       "      <td>GR-EFOOD</td>\n",
       "      <td>2021-01-21 20:08:59 UTC</td>\n",
       "      <td>17007258</td>\n",
       "      <td>206490318</td>\n",
       "      <td>Βόλος</td>\n",
       "      <td>Healthy / Other</td>\n",
       "      <td>11.8</td>\n",
       "    </tr>\n",
       "  </tbody>\n",
       "</table>\n",
       "</div>"
      ],
      "text/plain": [
       "     order_id     brand                submit_dt   user_id    shop_id   city  \\\n",
       "0  2846837765  GR-EFOOD  2021-01-13 20:37:06 UTC  99103596  206490318  Βόλος   \n",
       "1  2878146359  GR-EFOOD  2021-01-22 14:28:57 UTC  77179398  206490318  Βόλος   \n",
       "2  2904155390  GR-EFOOD  2021-01-29 13:52:24 UTC   7233822  206490318  Βόλος   \n",
       "3  2867086278  GR-EFOOD  2021-01-19 12:19:59 UTC  68621466  206490318  Βόλος   \n",
       "4  2875723043  GR-EFOOD  2021-01-21 20:08:59 UTC  17007258  206490318  Βόλος   \n",
       "\n",
       "    cuisine_parent  basket  \n",
       "0  Healthy / Other     9.0  \n",
       "1  Healthy / Other     7.0  \n",
       "2  Healthy / Other     6.3  \n",
       "3  Healthy / Other     7.0  \n",
       "4  Healthy / Other    11.8  "
      ]
     },
     "execution_count": 2,
     "metadata": {},
     "output_type": "execute_result"
    }
   ],
   "source": [
    "bi_df = pd.read_json('bq-results-20210618-000932-nxs5qoimyp6u.json', lines=True)\n",
    "print(bi_df.shape)\n",
    "bi_df.head(5)"
   ]
  },
  {
   "cell_type": "code",
   "execution_count": 3,
   "metadata": {},
   "outputs": [
    {
     "data": {
      "text/plain": [
       "0          9.0\n",
       "1          7.0\n",
       "2          6.3\n",
       "3          7.0\n",
       "4         11.8\n",
       "          ... \n",
       "399995    21.7\n",
       "399996    11.5\n",
       "399997     8.5\n",
       "399998    18.0\n",
       "399999    17.5\n",
       "Name: basket, Length: 400000, dtype: float64"
      ]
     },
     "execution_count": 3,
     "metadata": {},
     "output_type": "execute_result"
    }
   ],
   "source": [
    "bi_df.basket.astype('float')"
   ]
  },
  {
   "cell_type": "markdown",
   "metadata": {},
   "source": [
    "In order to make a study customer focused, groupping by each customer we get the total amount of orders made and the total basket."
   ]
  },
  {
   "cell_type": "code",
   "execution_count": 4,
   "metadata": {},
   "outputs": [
    {
     "name": "stdout",
     "output_type": "stream",
     "text": [
      "(162954, 2)\n"
     ]
    },
    {
     "data": {
      "text/html": [
       "<div>\n",
       "<style scoped>\n",
       "    .dataframe tbody tr th:only-of-type {\n",
       "        vertical-align: middle;\n",
       "    }\n",
       "\n",
       "    .dataframe tbody tr th {\n",
       "        vertical-align: top;\n",
       "    }\n",
       "\n",
       "    .dataframe thead th {\n",
       "        text-align: right;\n",
       "    }\n",
       "</style>\n",
       "<table border=\"1\" class=\"dataframe\">\n",
       "  <thead>\n",
       "    <tr style=\"text-align: right;\">\n",
       "      <th></th>\n",
       "      <th>times_ordered</th>\n",
       "      <th>total_amount</th>\n",
       "    </tr>\n",
       "    <tr>\n",
       "      <th>user_id</th>\n",
       "      <th></th>\n",
       "      <th></th>\n",
       "    </tr>\n",
       "  </thead>\n",
       "  <tbody>\n",
       "    <tr>\n",
       "      <th>27462</th>\n",
       "      <td>1</td>\n",
       "      <td>10.6</td>\n",
       "    </tr>\n",
       "    <tr>\n",
       "      <th>39238</th>\n",
       "      <td>2</td>\n",
       "      <td>35.0</td>\n",
       "    </tr>\n",
       "    <tr>\n",
       "      <th>41354</th>\n",
       "      <td>4</td>\n",
       "      <td>29.0</td>\n",
       "    </tr>\n",
       "    <tr>\n",
       "      <th>44068</th>\n",
       "      <td>1</td>\n",
       "      <td>19.5</td>\n",
       "    </tr>\n",
       "    <tr>\n",
       "      <th>49220</th>\n",
       "      <td>1</td>\n",
       "      <td>5.3</td>\n",
       "    </tr>\n",
       "  </tbody>\n",
       "</table>\n",
       "</div>"
      ],
      "text/plain": [
       "         times_ordered  total_amount\n",
       "user_id                             \n",
       "27462                1          10.6\n",
       "39238                2          35.0\n",
       "41354                4          29.0\n",
       "44068                1          19.5\n",
       "49220                1           5.3"
      ]
     },
     "execution_count": 4,
     "metadata": {},
     "output_type": "execute_result"
    }
   ],
   "source": [
    "bi_df_2 = bi_df.groupby('user_id').agg(\n",
    "            times_ordered=pd.NamedAgg(column='user_id', aggfunc='count'),\n",
    "            total_amount =pd.NamedAgg(column='basket', aggfunc=sum)   \n",
    "            )\n",
    "\n",
    "print(bi_df_2.shape)\n",
    "bi_df_2.head(5)"
   ]
  },
  {
   "cell_type": "markdown",
   "metadata": {},
   "source": [
    "Once more the correct datatypes were defined and stored into a sub-dataset that will be used for clustering in the next steps"
   ]
  },
  {
   "cell_type": "code",
   "execution_count": 5,
   "metadata": {},
   "outputs": [],
   "source": [
    "atr=bi_df_2[['times_ordered', 'total_amount']].astype('float')"
   ]
  },
  {
   "cell_type": "markdown",
   "metadata": {},
   "source": [
    "That sub dataframe created got scaled:"
   ]
  },
  {
   "cell_type": "code",
   "execution_count": 6,
   "metadata": {},
   "outputs": [
    {
     "name": "stdout",
     "output_type": "stream",
     "text": [
      "(162954, 2)\n"
     ]
    },
    {
     "data": {
      "text/html": [
       "<div>\n",
       "<style scoped>\n",
       "    .dataframe tbody tr th:only-of-type {\n",
       "        vertical-align: middle;\n",
       "    }\n",
       "\n",
       "    .dataframe tbody tr th {\n",
       "        vertical-align: top;\n",
       "    }\n",
       "\n",
       "    .dataframe thead th {\n",
       "        text-align: right;\n",
       "    }\n",
       "</style>\n",
       "<table border=\"1\" class=\"dataframe\">\n",
       "  <thead>\n",
       "    <tr style=\"text-align: right;\">\n",
       "      <th></th>\n",
       "      <th>0</th>\n",
       "      <th>1</th>\n",
       "    </tr>\n",
       "  </thead>\n",
       "  <tbody>\n",
       "    <tr>\n",
       "      <th>0</th>\n",
       "      <td>0.00000</td>\n",
       "      <td>0.023605</td>\n",
       "    </tr>\n",
       "    <tr>\n",
       "      <th>1</th>\n",
       "      <td>0.03125</td>\n",
       "      <td>0.077942</td>\n",
       "    </tr>\n",
       "    <tr>\n",
       "      <th>2</th>\n",
       "      <td>0.09375</td>\n",
       "      <td>0.064581</td>\n",
       "    </tr>\n",
       "    <tr>\n",
       "      <th>3</th>\n",
       "      <td>0.00000</td>\n",
       "      <td>0.043425</td>\n",
       "    </tr>\n",
       "    <tr>\n",
       "      <th>4</th>\n",
       "      <td>0.00000</td>\n",
       "      <td>0.011803</td>\n",
       "    </tr>\n",
       "  </tbody>\n",
       "</table>\n",
       "</div>"
      ],
      "text/plain": [
       "         0         1\n",
       "0  0.00000  0.023605\n",
       "1  0.03125  0.077942\n",
       "2  0.09375  0.064581\n",
       "3  0.00000  0.043425\n",
       "4  0.00000  0.011803"
      ]
     },
     "execution_count": 6,
     "metadata": {},
     "output_type": "execute_result"
    }
   ],
   "source": [
    "from sklearn import preprocessing\n",
    "\n",
    "x = atr.values\n",
    "min_max_scaler = preprocessing.MinMaxScaler()\n",
    "x_scaled = min_max_scaler.fit_transform(x)\n",
    "df = pd.DataFrame(x_scaled)\n",
    "print(df.shape)\n",
    "df.head(5)"
   ]
  },
  {
   "cell_type": "markdown",
   "metadata": {},
   "source": [
    "Number of clusters will get investigated with the three following ways:"
   ]
  },
  {
   "cell_type": "code",
   "execution_count": 9,
   "metadata": {},
   "outputs": [
    {
     "name": "stdout",
     "output_type": "stream",
     "text": [
      "The optimal number of clusters is: 3\n"
     ]
    }
   ],
   "source": [
    "from sklearn.cluster import KMeans\n",
    "from kneed import KneeLocator\n",
    "\n",
    "max_clusters = 8\n",
    "wcss = list()\n",
    "\n",
    "for k in range(1, max_clusters):\n",
    "    kmeans = KMeans(n_clusters=k, init='k-means++', random_state=1)\n",
    "    kmeans.fit(atr)\n",
    "    wcss.append(kmeans.inertia_)\n",
    "    \n",
    "n_clusters = KneeLocator([i for i in range(1, max_clusters)], wcss, curve='convex', direction='decreasing').knee\n",
    "print(\"The optimal number of clusters is:\", n_clusters)"
   ]
  },
  {
   "cell_type": "code",
   "execution_count": 11,
   "metadata": {},
   "outputs": [
    {
     "data": {
      "image/png": "[encoded data removed]",
      "text/plain": [
       "<Figure size 576x396 with 2 Axes>"
      ]
     },
     "metadata": {},
     "output_type": "display_data"
    },
    {
     "data": {
      "text/plain": [
       "<matplotlib.axes._subplots.AxesSubplot at 0x1bc16c836d0>"
      ]
     },
     "execution_count": 11,
     "metadata": {},
     "output_type": "execute_result"
    }
   ],
   "source": [
    "from yellowbrick.cluster import KElbowVisualizer\n",
    "\n",
    "kmeans = KMeans(random_state=0)\n",
    "visualizer = KElbowVisualizer(kmeans, k=(1,11))\n",
    "visualizer.fit(atr)\n",
    "visualizer.show()"
   ]
  },
  {
   "cell_type": "code",
   "execution_count": null,
   "metadata": {},
   "outputs": [],
   "source": [
    "from yellowbrick.cluster import SilhouetteVisualizer\n",
    "import matplotlib.pyplot as plt\n",
    "\n",
    "plt.figure(figsize=(4 * 4,  2 * 8))\n",
    "\n",
    "scores = {}\n",
    "best_kmeans = None\n",
    "best_score = -1\n",
    "for n_clusters in range(2, 4):\n",
    "    plt.subplot(4, 2, n_clusters - 1)\n",
    "    kmeans = KMeans(n_clusters, random_state=42)\n",
    "    visualizer = SilhouetteVisualizer(kmeans, colors='yellowbrick')\n",
    "    visualizer.fit(atr)\n",
    "    scores[n_clusters] = visualizer.silhouette_score_\n",
    "    if visualizer.silhouette_score_ > best_score:\n",
    "        best_score = visualizer.silhouette_score_\n",
    "        best_kmeans = kmeans\n",
    "    plt.title(f'clusters: {n_clusters} score: {visualizer.silhouette_score_}')"
   ]
  },
  {
   "cell_type": "markdown",
   "metadata": {},
   "source": [
    "KMeans clustering is implemented after deciding that the proper number of clusters is 3."
   ]
  },
  {
   "cell_type": "code",
   "execution_count": 14,
   "metadata": {},
   "outputs": [],
   "source": [
    "kmeans = KMeans(n_clusters=3, init='k-means++', random_state=1)\n",
    "kmeans.fit_predict(atr)\n",
    "bi_df_2['cluster'] = kmeans.labels_  # clusters' labels added to the initial data set"
   ]
  },
  {
   "cell_type": "code",
   "execution_count": 15,
   "metadata": {},
   "outputs": [
    {
     "name": "stdout",
     "output_type": "stream",
     "text": [
      "(162954, 3)\n"
     ]
    },
    {
     "data": {
      "text/html": [
       "<div>\n",
       "<style scoped>\n",
       "    .dataframe tbody tr th:only-of-type {\n",
       "        vertical-align: middle;\n",
       "    }\n",
       "\n",
       "    .dataframe tbody tr th {\n",
       "        vertical-align: top;\n",
       "    }\n",
       "\n",
       "    .dataframe thead th {\n",
       "        text-align: right;\n",
       "    }\n",
       "</style>\n",
       "<table border=\"1\" class=\"dataframe\">\n",
       "  <thead>\n",
       "    <tr style=\"text-align: right;\">\n",
       "      <th></th>\n",
       "      <th>times_ordered</th>\n",
       "      <th>total_amount</th>\n",
       "      <th>cluster</th>\n",
       "    </tr>\n",
       "    <tr>\n",
       "      <th>user_id</th>\n",
       "      <th></th>\n",
       "      <th></th>\n",
       "      <th></th>\n",
       "    </tr>\n",
       "  </thead>\n",
       "  <tbody>\n",
       "    <tr>\n",
       "      <th>27462</th>\n",
       "      <td>1</td>\n",
       "      <td>10.6</td>\n",
       "      <td>0</td>\n",
       "    </tr>\n",
       "    <tr>\n",
       "      <th>39238</th>\n",
       "      <td>2</td>\n",
       "      <td>35.0</td>\n",
       "      <td>1</td>\n",
       "    </tr>\n",
       "    <tr>\n",
       "      <th>41354</th>\n",
       "      <td>4</td>\n",
       "      <td>29.0</td>\n",
       "      <td>1</td>\n",
       "    </tr>\n",
       "    <tr>\n",
       "      <th>44068</th>\n",
       "      <td>1</td>\n",
       "      <td>19.5</td>\n",
       "      <td>0</td>\n",
       "    </tr>\n",
       "    <tr>\n",
       "      <th>49220</th>\n",
       "      <td>1</td>\n",
       "      <td>5.3</td>\n",
       "      <td>0</td>\n",
       "    </tr>\n",
       "  </tbody>\n",
       "</table>\n",
       "</div>"
      ],
      "text/plain": [
       "         times_ordered  total_amount  cluster\n",
       "user_id                                      \n",
       "27462                1          10.6        0\n",
       "39238                2          35.0        1\n",
       "41354                4          29.0        1\n",
       "44068                1          19.5        0\n",
       "49220                1           5.3        0"
      ]
     },
     "execution_count": 15,
     "metadata": {},
     "output_type": "execute_result"
    }
   ],
   "source": [
    "print(bi_df_2.shape)\n",
    "bi_df_2.head(5)"
   ]
  },
  {
   "cell_type": "code",
   "execution_count": 16,
   "metadata": {},
   "outputs": [
    {
     "data": {
      "text/plain": [
       "0    114572\n",
       "1     40481\n",
       "2      7901\n",
       "Name: cluster, dtype: int64"
      ]
     },
     "execution_count": 16,
     "metadata": {},
     "output_type": "execute_result"
    }
   ],
   "source": [
    "bi_df_2.cluster.value_counts()"
   ]
  },
  {
   "cell_type": "markdown",
   "metadata": {},
   "source": [
    "With a merge actions each customer will get assigned the group that belongs back into the intial dataset"
   ]
  },
  {
   "cell_type": "code",
   "execution_count": 17,
   "metadata": {},
   "outputs": [
    {
     "name": "stdout",
     "output_type": "stream",
     "text": [
      "(400000, 9)\n"
     ]
    },
    {
     "data": {
      "text/html": [
       "<div>\n",
       "<style scoped>\n",
       "    .dataframe tbody tr th:only-of-type {\n",
       "        vertical-align: middle;\n",
       "    }\n",
       "\n",
       "    .dataframe tbody tr th {\n",
       "        vertical-align: top;\n",
       "    }\n",
       "\n",
       "    .dataframe thead th {\n",
       "        text-align: right;\n",
       "    }\n",
       "</style>\n",
       "<table border=\"1\" class=\"dataframe\">\n",
       "  <thead>\n",
       "    <tr style=\"text-align: right;\">\n",
       "      <th></th>\n",
       "      <th>order_id</th>\n",
       "      <th>brand</th>\n",
       "      <th>submit_dt</th>\n",
       "      <th>user_id</th>\n",
       "      <th>shop_id</th>\n",
       "      <th>city</th>\n",
       "      <th>cuisine_parent</th>\n",
       "      <th>basket</th>\n",
       "      <th>cluster</th>\n",
       "    </tr>\n",
       "  </thead>\n",
       "  <tbody>\n",
       "    <tr>\n",
       "      <th>0</th>\n",
       "      <td>2846837765</td>\n",
       "      <td>GR-EFOOD</td>\n",
       "      <td>2021-01-13 20:37:06 UTC</td>\n",
       "      <td>99103596</td>\n",
       "      <td>206490318</td>\n",
       "      <td>Βόλος</td>\n",
       "      <td>Healthy / Other</td>\n",
       "      <td>9.0</td>\n",
       "      <td>1</td>\n",
       "    </tr>\n",
       "    <tr>\n",
       "      <th>1</th>\n",
       "      <td>2878146359</td>\n",
       "      <td>GR-EFOOD</td>\n",
       "      <td>2021-01-22 14:28:57 UTC</td>\n",
       "      <td>77179398</td>\n",
       "      <td>206490318</td>\n",
       "      <td>Βόλος</td>\n",
       "      <td>Healthy / Other</td>\n",
       "      <td>7.0</td>\n",
       "      <td>0</td>\n",
       "    </tr>\n",
       "    <tr>\n",
       "      <th>2</th>\n",
       "      <td>2904155390</td>\n",
       "      <td>GR-EFOOD</td>\n",
       "      <td>2021-01-29 13:52:24 UTC</td>\n",
       "      <td>7233822</td>\n",
       "      <td>206490318</td>\n",
       "      <td>Βόλος</td>\n",
       "      <td>Healthy / Other</td>\n",
       "      <td>6.3</td>\n",
       "      <td>1</td>\n",
       "    </tr>\n",
       "    <tr>\n",
       "      <th>3</th>\n",
       "      <td>2867086278</td>\n",
       "      <td>GR-EFOOD</td>\n",
       "      <td>2021-01-19 12:19:59 UTC</td>\n",
       "      <td>68621466</td>\n",
       "      <td>206490318</td>\n",
       "      <td>Βόλος</td>\n",
       "      <td>Healthy / Other</td>\n",
       "      <td>7.0</td>\n",
       "      <td>1</td>\n",
       "    </tr>\n",
       "    <tr>\n",
       "      <th>4</th>\n",
       "      <td>2875723043</td>\n",
       "      <td>GR-EFOOD</td>\n",
       "      <td>2021-01-21 20:08:59 UTC</td>\n",
       "      <td>17007258</td>\n",
       "      <td>206490318</td>\n",
       "      <td>Βόλος</td>\n",
       "      <td>Healthy / Other</td>\n",
       "      <td>11.8</td>\n",
       "      <td>0</td>\n",
       "    </tr>\n",
       "  </tbody>\n",
       "</table>\n",
       "</div>"
      ],
      "text/plain": [
       "     order_id     brand                submit_dt   user_id    shop_id   city  \\\n",
       "0  2846837765  GR-EFOOD  2021-01-13 20:37:06 UTC  99103596  206490318  Βόλος   \n",
       "1  2878146359  GR-EFOOD  2021-01-22 14:28:57 UTC  77179398  206490318  Βόλος   \n",
       "2  2904155390  GR-EFOOD  2021-01-29 13:52:24 UTC   7233822  206490318  Βόλος   \n",
       "3  2867086278  GR-EFOOD  2021-01-19 12:19:59 UTC  68621466  206490318  Βόλος   \n",
       "4  2875723043  GR-EFOOD  2021-01-21 20:08:59 UTC  17007258  206490318  Βόλος   \n",
       "\n",
       "    cuisine_parent  basket  cluster  \n",
       "0  Healthy / Other     9.0        1  \n",
       "1  Healthy / Other     7.0        0  \n",
       "2  Healthy / Other     6.3        1  \n",
       "3  Healthy / Other     7.0        1  \n",
       "4  Healthy / Other    11.8        0  "
      ]
     },
     "execution_count": 17,
     "metadata": {},
     "output_type": "execute_result"
    }
   ],
   "source": [
    "final_dataset = pd.merge(bi_df, \n",
    "               bi_df_2[[ 'cluster']], \n",
    "               on='user_id',\n",
    "               how='left')\n",
    "\n",
    "print(final_dataset.shape)\n",
    "final_dataset.head(5)"
   ]
  },
  {
   "cell_type": "markdown",
   "metadata": {},
   "source": [
    "That dataset will be exported in order to get used with PowerBI"
   ]
  },
  {
   "cell_type": "code",
   "execution_count": 26,
   "metadata": {},
   "outputs": [],
   "source": [
    "final_dataset.to_excel('efood_PBI_data.xlsx')"
   ]
  },
  {
   "cell_type": "markdown",
   "metadata": {},
   "source": [
    "Next actions will be held in Power BI"
   ]
  }
 ],
 "metadata": {
  "kernelspec": {
   "display_name": "Python 3",
   "language": "python",
   "name": "python3"
  },
  "language_info": {
   "codemirror_mode": {
    "name": "ipython",
    "version": 3
   },
   "file_extension": ".py",
   "mimetype": "text/x-python",
   "name": "python",
   "nbconvert_exporter": "python",
   "pygments_lexer": "ipython3",
   "version": "3.8.3"
  }
 },
 "nbformat": 4,
 "nbformat_minor": 4
}
